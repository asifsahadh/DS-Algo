{
 "cells": [
  {
   "cell_type": "markdown",
   "id": "e89fb0d9-4348-4669-8ffd-9bb60c7c9a4a",
   "metadata": {},
   "source": [
    "**Problem statement:** Merge two sorted integer arrays, `nums1` and `nums2`, into a single sorted array stored in `nums1`, with `nums1` having extra space to accommodate all elements."
   ]
  },
  {
   "cell_type": "code",
   "execution_count": 52,
   "id": "aea75a81-768f-4193-be9b-6148da82571d",
   "metadata": {},
   "outputs": [],
   "source": [
    "nums1 = [1, 2, 3, 0, 0, 0]\n",
    "nums2 = [2, 5, 6]\n",
    "m, n = 3, 3\n",
    "# expected output = [1, 2, 2, 3, 5, 6]"
   ]
  },
  {
   "cell_type": "code",
   "execution_count": 53,
   "id": "6d3421b6-60ad-4d05-a382-ae303c422454",
   "metadata": {},
   "outputs": [
    {
     "data": {
      "text/plain": [
       "[1, 2, 2, 3, 5, 6]"
      ]
     },
     "execution_count": 53,
     "metadata": {},
     "output_type": "execute_result"
    }
   ],
   "source": [
    "def merge(nums1, nums2, m, n):\n",
    "    \n",
    "    p1, p2, p = m - 1, n - 1, m + n - 1\n",
    "    \n",
    "    while p1 >= 0 and p2 >= 0:\n",
    "        if nums1[p1] > nums2[p2]:\n",
    "            nums1[p] = nums1[p1]\n",
    "            p1 -= 1\n",
    "        else:\n",
    "            nums1[p] = nums2[p2]\n",
    "            p2 -= 1\n",
    "        p -= 1\n",
    "\n",
    "    nums1[:p2 + 1] = nums2[:p2 + 1]\n",
    "        \n",
    "    return nums1\n",
    "\n",
    "merge(nums1, nums2, m, n)"
   ]
  }
 ],
 "metadata": {
  "kernelspec": {
   "display_name": "Python 3 (ipykernel)",
   "language": "python",
   "name": "python3"
  },
  "language_info": {
   "codemirror_mode": {
    "name": "ipython",
    "version": 3
   },
   "file_extension": ".py",
   "mimetype": "text/x-python",
   "name": "python",
   "nbconvert_exporter": "python",
   "pygments_lexer": "ipython3",
   "version": "3.12.4"
  }
 },
 "nbformat": 4,
 "nbformat_minor": 5
}
