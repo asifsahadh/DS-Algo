{
 "cells": [
  {
   "cell_type": "markdown",
   "id": "a91198bb-bc9a-4571-9f9b-985e84a34be1",
   "metadata": {},
   "source": [
    "**Problem Statement:** Given an integer array arr, find the contiguous subarray (containing at least one number) which\n",
    "has the largest sum and returns its sum and prints the subarray."
   ]
  },
  {
   "cell_type": "markdown",
   "id": "68601c3f-2ea2-47fd-a672-fd44d9edf90d",
   "metadata": {},
   "source": [
    "*1. Brute Force Solution*"
   ]
  },
  {
   "cell_type": "code",
   "execution_count": 176,
   "id": "723e42c1-2008-4eec-a76a-a622b7082b05",
   "metadata": {},
   "outputs": [],
   "source": [
    "arr = [1, 2, 3]"
   ]
  },
  {
   "cell_type": "code",
   "execution_count": 177,
   "id": "4270de3c-19d0-4859-b835-7ea4167756ed",
   "metadata": {},
   "outputs": [],
   "source": [
    "def kadane(arr):\n",
    "    temp = []\n",
    "    l = len(arr)\n",
    "    \n",
    "    for i in range(l):\n",
    "        s = 0\n",
    "        for j in range(i, l):\n",
    "            s += arr[j]\n",
    "            temp.append(s)\n",
    "            \n",
    "    return max(temp)"
   ]
  },
  {
   "cell_type": "code",
   "execution_count": 178,
   "id": "75011231-b4ea-4f3d-8f9c-46102554dfd0",
   "metadata": {},
   "outputs": [
    {
     "data": {
      "text/plain": [
       "6"
      ]
     },
     "execution_count": 178,
     "metadata": {},
     "output_type": "execute_result"
    }
   ],
   "source": [
    "kadane(arr)"
   ]
  },
  {
   "cell_type": "markdown",
   "id": "249882c4-2e8a-48ee-8166-7de2e528412d",
   "metadata": {},
   "source": [
    "*2. Better Solution*"
   ]
  },
  {
   "cell_type": "code",
   "execution_count": 179,
   "id": "99d7d7f0-7097-418c-8e96-855c0007e2ef",
   "metadata": {},
   "outputs": [],
   "source": [
    "def kadane_bet(arr):\n",
    "    maxi = arr[0]\n",
    "    cur_maxi = arr[0]\n",
    "    for i in range(1, len(arr)):\n",
    "        cur_maxi = max(arr[i], cur_maxi + arr[i])\n",
    "        if cur_maxi > maxi:\n",
    "            maxi = cur_maxi\n",
    "    return maxi"
   ]
  },
  {
   "cell_type": "code",
   "execution_count": 180,
   "id": "bb8b28b3-c925-4514-8ba1-4ea7dc466502",
   "metadata": {},
   "outputs": [
    {
     "data": {
      "text/plain": [
       "6"
      ]
     },
     "execution_count": 180,
     "metadata": {},
     "output_type": "execute_result"
    }
   ],
   "source": [
    "kadane_bet(arr)"
   ]
  },
  {
   "cell_type": "markdown",
   "id": "dabe07b4-1e93-4835-bb9f-8e5622be99fe",
   "metadata": {},
   "source": [
    "Note: The space/time complexities are better by a mile for Better compared to Brute."
   ]
  }
 ],
 "metadata": {
  "kernelspec": {
   "display_name": "Python 3 (ipykernel)",
   "language": "python",
   "name": "python3"
  },
  "language_info": {
   "codemirror_mode": {
    "name": "ipython",
    "version": 3
   },
   "file_extension": ".py",
   "mimetype": "text/x-python",
   "name": "python",
   "nbconvert_exporter": "python",
   "pygments_lexer": "ipython3",
   "version": "3.12.4"
  }
 },
 "nbformat": 4,
 "nbformat_minor": 5
}
