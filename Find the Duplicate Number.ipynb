{
 "cells": [
  {
   "cell_type": "markdown",
   "id": "bd26d6b6-ccf9-44a5-aa2d-66a483d3d2f4",
   "metadata": {},
   "source": [
    "**Problem Statement:** Given an array of N + 1 size, where each element is between 1 and N. Assuming there is only one duplicate number, your task is to find the duplicate number."
   ]
  },
  {
   "cell_type": "code",
   "execution_count": 54,
   "id": "2b6df0a2-9c09-4c4f-9949-7b6e8c807f1d",
   "metadata": {},
   "outputs": [],
   "source": [
    "nums = [1, 4, 3, 2, 4]\n",
    "# ans -> 4"
   ]
  },
  {
   "cell_type": "markdown",
   "id": "f0250195-4a39-400c-b708-6e825014712b",
   "metadata": {},
   "source": [
    "1. Brute Force"
   ]
  },
  {
   "cell_type": "code",
   "execution_count": 55,
   "id": "99374bd9-3269-4745-8516-fe379faeedfa",
   "metadata": {},
   "outputs": [],
   "source": [
    "# I think a possible way is to compare each number to every other number except for itself and if they are equal, we return that number."
   ]
  },
  {
   "cell_type": "code",
   "execution_count": 56,
   "id": "a68f5e4c-c3bf-48f6-b315-cd2f93caa31c",
   "metadata": {},
   "outputs": [],
   "source": [
    "def find_duplicate(nums):\n",
    "    for i in range(len(nums)):\n",
    "        for j in range(i + 1, len(nums)):\n",
    "            if nums[i] == nums[j]:              \n",
    "                return nums[i]"
   ]
  },
  {
   "cell_type": "code",
   "execution_count": 57,
   "id": "b1c53e44-1f6e-4fb9-9e63-a3c72791e8ef",
   "metadata": {},
   "outputs": [
    {
     "data": {
      "text/plain": [
       "4"
      ]
     },
     "execution_count": 57,
     "metadata": {},
     "output_type": "execute_result"
    }
   ],
   "source": [
    "find_duplicate(nums)"
   ]
  },
  {
   "cell_type": "markdown",
   "id": "fc5a3f0f-9e72-4bcf-836e-50e31d8d5901",
   "metadata": {},
   "source": [
    "2. Better Solution (Floyd's Tortoise & Hare)"
   ]
  },
  {
   "cell_type": "code",
   "execution_count": 62,
   "id": "0a0a4076-c2bb-4500-8ffb-b9aaf1648874",
   "metadata": {},
   "outputs": [],
   "source": [
    "def find_duplicate(nums):\n",
    "    \n",
    "    tortoise = hare = nums[0]\n",
    "    \n",
    "    while True:\n",
    "        tortoise = nums[tortoise]\n",
    "        hare = nums[hare]\n",
    "        if tortoise == hare:\n",
    "            break\n",
    "\n",
    "    tortoise = nums[0]\n",
    "    while tortoise != hare:\n",
    "        tortoise = nums[tortoise]\n",
    "        hare = nums[hare]\n",
    "\n",
    "    return tortoise"
   ]
  },
  {
   "cell_type": "code",
   "execution_count": 63,
   "id": "159c1a31-917e-4550-96bb-0d41b2870b3f",
   "metadata": {},
   "outputs": [
    {
     "data": {
      "text/plain": [
       "4"
      ]
     },
     "execution_count": 63,
     "metadata": {},
     "output_type": "execute_result"
    }
   ],
   "source": [
    "find_duplicate(nums)"
   ]
  }
 ],
 "metadata": {
  "kernelspec": {
   "display_name": "Python 3 (ipykernel)",
   "language": "python",
   "name": "python3"
  },
  "language_info": {
   "codemirror_mode": {
    "name": "ipython",
    "version": 3
   },
   "file_extension": ".py",
   "mimetype": "text/x-python",
   "name": "python",
   "nbconvert_exporter": "python",
   "pygments_lexer": "ipython3",
   "version": "3.12.4"
  }
 },
 "nbformat": 4,
 "nbformat_minor": 5
}
