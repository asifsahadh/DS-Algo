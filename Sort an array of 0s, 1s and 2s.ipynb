{
 "cells": [
  {
   "cell_type": "markdown",
   "id": "4913ad6b-fdf0-41ca-ad6b-9c52208f7977",
   "metadata": {},
   "source": [
    "**Problem Statement:** Given an array consisting of only 0s, 1s, and 2s. Write a program to in-place sort the array without using inbuilt sort functions. (Expected: Single pass-O(N) and constant space)"
   ]
  },
  {
   "cell_type": "code",
   "execution_count": 18,
   "id": "dfc31f13-eb72-42cb-8e71-3db273a2728f",
   "metadata": {},
   "outputs": [],
   "source": [
    "# arr = [1, 2, 1, 0, 2, 2, 0] | output = [0, 0, 1, 1, 2, 2, 2]"
   ]
  },
  {
   "cell_type": "code",
   "execution_count": 78,
   "id": "7e8ce0e4-9948-40d9-8bbd-997cfa7c0602",
   "metadata": {},
   "outputs": [],
   "source": [
    "arr = [1, 2, 1, 0, 2, 2, 0]"
   ]
  },
  {
   "cell_type": "code",
   "execution_count": 79,
   "id": "87a1c8d9-66f9-4d6e-83b6-19699c91adf7",
   "metadata": {},
   "outputs": [],
   "source": [
    "def sort(arr):\n",
    "    \n",
    "    zero_count = one_count = two_count = 0\n",
    "    \n",
    "    for i in range(len(arr)):\n",
    "        if arr[i] == 0:\n",
    "            zero_count += 1\n",
    "\n",
    "    for i in range(len(arr)):\n",
    "        if arr[i] == 1:\n",
    "            one_count += 1\n",
    "\n",
    "    for i in range(len(arr)):\n",
    "        if arr[i] == 2:\n",
    "            two_count += 1\n",
    "\n",
    "    for i in range(zero_count):\n",
    "        arr[i] = 0    \n",
    "\n",
    "    for i in range(one_count):\n",
    "        arr[zero_count + i] = 1 \n",
    "\n",
    "    for i in range(two_count):\n",
    "        arr[zero_count + one_count + i] = 2\n",
    "    \n",
    "    return arr"
   ]
  },
  {
   "cell_type": "code",
   "execution_count": 80,
   "id": "70373fa7-a532-4785-8406-b534b99b128d",
   "metadata": {},
   "outputs": [
    {
     "data": {
      "text/plain": [
       "[0, 0, 1, 1, 2, 2, 2]"
      ]
     },
     "execution_count": 80,
     "metadata": {},
     "output_type": "execute_result"
    }
   ],
   "source": [
    "sort(arr)"
   ]
  }
 ],
 "metadata": {
  "kernelspec": {
   "display_name": "Python 3 (ipykernel)",
   "language": "python",
   "name": "python3"
  },
  "language_info": {
   "codemirror_mode": {
    "name": "ipython",
    "version": 3
   },
   "file_extension": ".py",
   "mimetype": "text/x-python",
   "name": "python",
   "nbconvert_exporter": "python",
   "pygments_lexer": "ipython3",
   "version": "3.12.4"
  }
 },
 "nbformat": 4,
 "nbformat_minor": 5
}
