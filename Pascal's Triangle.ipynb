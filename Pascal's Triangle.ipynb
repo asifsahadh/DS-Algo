{
 "cells": [
  {
   "cell_type": "markdown",
   "id": "cbe31568-649f-4aa8-af7c-c589c93ea790",
   "metadata": {},
   "source": [
    "**Problem Statement:** Given an integer numRows, return the first numRows of Pascal's triangle.\n",
    "\n",
    "Example:\n",
    "> Input: numRows = 5 <br>\n",
    "> Output: [[1], [1, 1], [1, 2, 1], [1, 3, 3, 1], [1, 4, 6, 4, 1]]"
   ]
  },
  {
   "cell_type": "code",
   "execution_count": 22,
   "id": "bbdfd910-da43-481e-b301-d312419a1afb",
   "metadata": {},
   "outputs": [],
   "source": [
    "def generate(numRows):\n",
    "    if numRows == 0:\n",
    "        return []\n",
    "    if numRows == 1:\n",
    "        return [[1]]\n",
    "        \n",
    "    prevRows = generate(numRows - 1)\n",
    "    newRow = [1] * numRows\n",
    "\n",
    "    for i in range(1, numRows - 1):\n",
    "        newRow[i] = prevRows[-1][i - 1] + prevRows[-1][i]\n",
    "\n",
    "    prevRows.append(newRow)\n",
    "    return prevRows"
   ]
  },
  {
   "cell_type": "code",
   "execution_count": 23,
   "id": "4e86b654-7aa5-471e-bf10-2e73d77442c4",
   "metadata": {},
   "outputs": [
    {
     "data": {
      "text/plain": [
       "[[1],\n",
       " [1, 1],\n",
       " [1, 2, 1],\n",
       " [1, 3, 3, 1],\n",
       " [1, 4, 6, 4, 1],\n",
       " [1, 5, 10, 10, 5, 1],\n",
       " [1, 6, 15, 20, 15, 6, 1],\n",
       " [1, 7, 21, 35, 35, 21, 7, 1],\n",
       " [1, 8, 28, 56, 70, 56, 28, 8, 1]]"
      ]
     },
     "execution_count": 23,
     "metadata": {},
     "output_type": "execute_result"
    }
   ],
   "source": [
    "generate(9)"
   ]
  }
 ],
 "metadata": {
  "kernelspec": {
   "display_name": "Python 3 (ipykernel)",
   "language": "python",
   "name": "python3"
  },
  "language_info": {
   "codemirror_mode": {
    "name": "ipython",
    "version": 3
   },
   "file_extension": ".py",
   "mimetype": "text/x-python",
   "name": "python",
   "nbconvert_exporter": "python",
   "pygments_lexer": "ipython3",
   "version": "3.12.4"
  }
 },
 "nbformat": 4,
 "nbformat_minor": 5
}
