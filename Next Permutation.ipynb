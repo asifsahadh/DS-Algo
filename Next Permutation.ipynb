{
 "cells": [
  {
   "cell_type": "markdown",
   "id": "8f60a98e-d579-4352-a791-025195cd095f",
   "metadata": {},
   "source": [
    "**Problem Statement:** Given an array Arr[] of integers, rearrange the numbers of the given array into the lexicographically next greater permutation of numbers. If such an arrangement is not possible, it must rearrange to the lowest possible order (i.e., sorted in ascending order)."
   ]
  },
  {
   "cell_type": "code",
   "execution_count": 2,
   "id": "a3607416-ca20-4538-805e-6064c7772ecb",
   "metadata": {},
   "outputs": [],
   "source": [
    "# arr = [1, 2, 4, 3, 5] | output = [1, 2, 4, 5, 3]"
   ]
  },
  {
   "cell_type": "code",
   "execution_count": 9,
   "id": "e96107e2-ebf6-4a28-8e21-470f9bf8bd7b",
   "metadata": {},
   "outputs": [],
   "source": [
    "# 1. Starting from the right, find the first number that is lesser than the number to its right. Let this be k.\n",
    "# 2. Starting from the right again, find the first number that is just greater than k. Let this be l.\n",
    "# 3. Swap k and l.\n",
    "# 4. Reverse the sequence from arr[k + 1] up to the last element."
   ]
  },
  {
   "cell_type": "code",
   "execution_count": 61,
   "id": "f5f47336-d742-4634-9234-d81f5b5e7eba",
   "metadata": {},
   "outputs": [],
   "source": [
    "def next_perm(arr):\n",
    "\n",
    "    # 1\n",
    "    k = -1\n",
    "    for i in range(len(arr) - 1):\n",
    "        if arr[i] < arr[i + 1]:\n",
    "            k = i\n",
    "    if k == -1:\n",
    "        arr.reverse()\n",
    "        return arr\n",
    "\n",
    "    # 2\n",
    "    for i in range(len(arr) - 1, k, -1):\n",
    "        if arr[i] > arr[k]:\n",
    "            l = i\n",
    "            break\n",
    "\n",
    "    # 3\n",
    "    temp2 = array[k]\n",
    "    array[k] = array[l]\n",
    "    array[l] = temp2\n",
    "\n",
    "    # 4\n",
    "    arr[k + 1:] = arr[k + 1:][::-1]\n",
    "\n",
    "    return arr"
   ]
  },
  {
   "cell_type": "code",
   "execution_count": 70,
   "id": "71296938-92c5-4297-8687-708ce61549fd",
   "metadata": {},
   "outputs": [
    {
     "data": {
      "text/plain": [
       "[2, 1, 3, 4]"
      ]
     },
     "execution_count": 70,
     "metadata": {},
     "output_type": "execute_result"
    }
   ],
   "source": [
    "arr = [2, 1, 4, 3]\n",
    "next_perm(arr)"
   ]
  }
 ],
 "metadata": {
  "kernelspec": {
   "display_name": "Python 3 (ipykernel)",
   "language": "python",
   "name": "python3"
  },
  "language_info": {
   "codemirror_mode": {
    "name": "ipython",
    "version": 3
   },
   "file_extension": ".py",
   "mimetype": "text/x-python",
   "name": "python",
   "nbconvert_exporter": "python",
   "pygments_lexer": "ipython3",
   "version": "3.12.4"
  }
 },
 "nbformat": 4,
 "nbformat_minor": 5
}
