{
 "cells": [
  {
   "cell_type": "markdown",
   "id": "9423dd3c-ce41-4618-a753-93b2464c9fcc",
   "metadata": {},
   "source": [
    "**Problem Statement:** You are given an array of prices where prices[i] is the price of a given stock on an ith day. You want to maximize your profit by choosing a single day to buy one stock and choosing a different day in the future to sell that stock. Return the maximum profit you can achieve from this transaction. If you cannot achieve any profit, return 0."
   ]
  },
  {
   "cell_type": "code",
   "execution_count": 1,
   "id": "698f10e9-6c6b-4609-9c32-4b12168c0a96",
   "metadata": {},
   "outputs": [],
   "source": [
    "# prices = [7, 1, 5, 3, 6, 4] | output = 5"
   ]
  },
  {
   "cell_type": "code",
   "execution_count": 2,
   "id": "31e35654-32d1-4eb7-b55f-473565ef47e1",
   "metadata": {},
   "outputs": [],
   "source": [
    "# if the array is in descending order, return 0\n",
    "# if the array is in ascending order, return arr[len(arr) - 1] - arr[0]"
   ]
  },
  {
   "cell_type": "markdown",
   "id": "23a3ac6d-20b5-4476-9f29-69128bdf9432",
   "metadata": {},
   "source": [
    "*1. Brute Force Solution*"
   ]
  },
  {
   "cell_type": "code",
   "execution_count": 162,
   "id": "6d127434-dd24-42a3-8820-7b4faac7ef1a",
   "metadata": {},
   "outputs": [],
   "source": [
    "prices = [7, 1, 5, 3, 6, 4]"
   ]
  },
  {
   "cell_type": "code",
   "execution_count": 163,
   "id": "b8c42285-2a9f-4836-ab53-1c30702ecf80",
   "metadata": {},
   "outputs": [],
   "source": [
    "def stock(prices):\n",
    "    \n",
    "    if prices == sorted(prices):\n",
    "        return prices[len(prices) - 1] - prices[0]\n",
    "        \n",
    "    if prices == sorted(prices, reverse = True):\n",
    "        return 0\n",
    "\n",
    "    rev = prices[::-1]\n",
    "    sums = []\n",
    "    \n",
    "    # sample rev | [4, 6, 3, 5, 1, 7]\n",
    "    for j in range(len(rev)):\n",
    "        for k in range(j, len(rev)):\n",
    "            sums.append(rev[j] - rev[k])\n",
    "        if len(sums) % len(rev) == 0:\n",
    "            rev == rev[1:]\n",
    "            \n",
    "    return max(sums)"
   ]
  },
  {
   "cell_type": "code",
   "execution_count": 164,
   "id": "b9838294-bf73-4754-ac9d-fc88ec35d57c",
   "metadata": {},
   "outputs": [
    {
     "data": {
      "text/plain": [
       "5"
      ]
     },
     "execution_count": 164,
     "metadata": {},
     "output_type": "execute_result"
    }
   ],
   "source": [
    "stock(prices)"
   ]
  },
  {
   "cell_type": "markdown",
   "id": "7e6dea93-1751-4fd4-8a9a-994d370cae2a",
   "metadata": {},
   "source": [
    "*2. Better Solution*"
   ]
  },
  {
   "cell_type": "code",
   "execution_count": 165,
   "id": "578ef569-6c1c-4e9b-bc9c-ac2646f58392",
   "metadata": {},
   "outputs": [],
   "source": [
    "def stock2(prices):\n",
    "    buy = prices[0]\n",
    "    profit = 0\n",
    "    for i in range(1, len(prices)):\n",
    "        if prices[i] < buy:\n",
    "            buy = prices[i]\n",
    "        elif prices[i] - buy > profit:\n",
    "            profit = prices[i] - buy\n",
    "    return profit"
   ]
  },
  {
   "cell_type": "code",
   "execution_count": 166,
   "id": "11bd01c1-aa20-49e8-8ec5-2a3bfdba565d",
   "metadata": {},
   "outputs": [
    {
     "data": {
      "text/plain": [
       "5"
      ]
     },
     "execution_count": 166,
     "metadata": {},
     "output_type": "execute_result"
    }
   ],
   "source": [
    "stock2(prices)"
   ]
  }
 ],
 "metadata": {
  "kernelspec": {
   "display_name": "Python 3 (ipykernel)",
   "language": "python",
   "name": "python3"
  },
  "language_info": {
   "codemirror_mode": {
    "name": "ipython",
    "version": 3
   },
   "file_extension": ".py",
   "mimetype": "text/x-python",
   "name": "python",
   "nbconvert_exporter": "python",
   "pygments_lexer": "ipython3",
   "version": "3.12.4"
  }
 },
 "nbformat": 4,
 "nbformat_minor": 5
}
