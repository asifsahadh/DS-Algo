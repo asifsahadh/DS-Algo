{
 "cells": [
  {
   "cell_type": "markdown",
   "id": "dc6a0373-ad42-43d9-83ae-604a82787e25",
   "metadata": {},
   "source": [
    "**Problem Statement:** Given a matrix if an element in the matrix is 0 then you will have to set its entire column and row to 0 and then return the matrix."
   ]
  },
  {
   "cell_type": "markdown",
   "id": "579ff2b4-b590-406c-8142-e91de3686a4c",
   "metadata": {},
   "source": [
    "*1. Brute Force Solution*"
   ]
  },
  {
   "cell_type": "code",
   "execution_count": 79,
   "id": "7ee1e4ed-ff40-4f12-8277-5c4c95786967",
   "metadata": {},
   "outputs": [],
   "source": [
    "matrix = [[2, 3, 4, 0], [1, 2, 1, 1], [9, 8, 3, 4]]\n",
    "num_rows = len(matrix)\n",
    "num_cols = len(matrix[0])"
   ]
  },
  {
   "cell_type": "code",
   "execution_count": 80,
   "id": "5a44defa-45f1-4b2c-b10f-5893de4e73ac",
   "metadata": {},
   "outputs": [],
   "source": [
    "def zero_row(matrix, num_cols, i):\n",
    "    for j in range(num_cols):\n",
    "        if matrix[i][j] != 0:\n",
    "            matrix[i][j] = -1\n",
    "\n",
    "def zero_col(matrix, num_rows, j):\n",
    "    for i in range(num_rows):\n",
    "        if matrix[i][j] != 0:\n",
    "            matrix[i][j] = -1\n",
    "\n",
    "def zero_matrix(matrix, num_rows, num_cols):\n",
    "    for i in range(num_rows):\n",
    "        for j in range(num_cols):\n",
    "            if matrix[i][j] == 0:\n",
    "                zero_row(matrix, num_cols, i)\n",
    "                zero_col(matrix, num_rows, j)\n",
    "\n",
    "    for i in range(num_rows):\n",
    "        for j in range(num_cols):\n",
    "            if matrix[i][j] == -1:\n",
    "                matrix[i][j] = 0\n",
    "    return matrix"
   ]
  },
  {
   "cell_type": "code",
   "execution_count": 81,
   "id": "cd491b3d-c75b-43df-bba6-a95845f3e9e4",
   "metadata": {},
   "outputs": [
    {
     "data": {
      "text/plain": [
       "[[0, 0, 0, 0], [1, 2, 1, 0], [9, 8, 3, 0]]"
      ]
     },
     "execution_count": 81,
     "metadata": {},
     "output_type": "execute_result"
    }
   ],
   "source": [
    "zero_matrix(matrix, num_rows, num_cols)"
   ]
  },
  {
   "cell_type": "markdown",
   "id": "1b6ad06a-0d35-4b26-95d3-ec507d317bb4",
   "metadata": {},
   "source": [
    "*2. Better Solution*"
   ]
  },
  {
   "cell_type": "code",
   "execution_count": 1,
   "id": "c7d1bf5b-e30f-4316-8eb4-dd40b2c846a8",
   "metadata": {},
   "outputs": [],
   "source": [
    "# 1. Create a new 0 row and 0 column with size matrix row and matrix column.\n",
    "# 2. Iterating through the matrix, if a 0 is found, mark correspoding new row and new column index as 1.\n",
    "# 3. Based on where ever there is a 1 in the new row and new column, mark the entire row and column of the matrix as 0."
   ]
  },
  {
   "cell_type": "code",
   "execution_count": 73,
   "id": "ac47e753-0d8a-4e7c-8621-e0a83007cb89",
   "metadata": {},
   "outputs": [],
   "source": [
    "def zero_mat(matrix): \n",
    "    new_zero_row = len(matrix) * [0]\n",
    "    new_zero_col = len(matrix[0]) * [0]\n",
    "\n",
    "    for i in range(len(matrix)):\n",
    "        for j in range(len(matrix[0])):\n",
    "            if matrix[i][j] == 0:\n",
    "                new_zero_row[i] = 1\n",
    "                new_zero_col[j] = 1\n",
    "\n",
    "    for i in range(len(matrix)):\n",
    "        for j in range(len(matrix[0])):\n",
    "            if new_zero_row[i] == 1 or new_zero_col[j] == 1:\n",
    "                matrix[i][j] = 0\n",
    "\n",
    "    return matrix"
   ]
  },
  {
   "cell_type": "code",
   "execution_count": 74,
   "id": "17ad2711-0d44-4650-891c-45de56dd5118",
   "metadata": {},
   "outputs": [
    {
     "data": {
      "text/plain": [
       "[[0, 0, 0, 0], [1, 2, 1, 0], [9, 8, 3, 0]]"
      ]
     },
     "execution_count": 74,
     "metadata": {},
     "output_type": "execute_result"
    }
   ],
   "source": [
    "matrix = [[2, 3, 4, 0], [1, 2, 1, 1], [9, 8, 3, 4]]\n",
    "zero_mat(matrix)"
   ]
  }
 ],
 "metadata": {
  "kernelspec": {
   "display_name": "Python 3 (ipykernel)",
   "language": "python",
   "name": "python3"
  },
  "language_info": {
   "codemirror_mode": {
    "name": "ipython",
    "version": 3
   },
   "file_extension": ".py",
   "mimetype": "text/x-python",
   "name": "python",
   "nbconvert_exporter": "python",
   "pygments_lexer": "ipython3",
   "version": "3.12.4"
  }
 },
 "nbformat": 4,
 "nbformat_minor": 5
}
