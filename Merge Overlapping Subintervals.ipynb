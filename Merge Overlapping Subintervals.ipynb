{
 "cells": [
  {
   "cell_type": "markdown",
   "id": "e08d7799-f3b2-4628-9210-6ec2e0f129c5",
   "metadata": {},
   "source": [
    "**Problem Statement:** Given an array of intervals, merge all the overlapping intervals and return an array of non-overlapping intervals."
   ]
  },
  {
   "cell_type": "code",
   "execution_count": 95,
   "id": "b4159eb1-3281-4022-a8a2-b5cf3234548b",
   "metadata": {},
   "outputs": [],
   "source": [
    "# sample:\n",
    "# input: [[1, 3], [2, 6], [8, 10], [9, 18]]\n",
    "# output: [[1, 6], [8, 18]]"
   ]
  },
  {
   "cell_type": "code",
   "execution_count": 89,
   "id": "5aaca687-13ec-4e4b-a937-ba0390131580",
   "metadata": {},
   "outputs": [],
   "source": [
    "intervals = [[1, 3], [2, 6], [8, 10], [9, 18]]"
   ]
  },
  {
   "cell_type": "code",
   "execution_count": 94,
   "id": "e46d702d-9572-457c-9ef9-19be532239bf",
   "metadata": {},
   "outputs": [
    {
     "data": {
      "text/plain": [
       "[[1, 6], [8, 18]]"
      ]
     },
     "execution_count": 94,
     "metadata": {},
     "output_type": "execute_result"
    }
   ],
   "source": [
    "def merge(intervals):\n",
    "    \n",
    "    intervals.sort()\n",
    "    merged = [intervals[0]]\n",
    "    \n",
    "    for i in range(1, len(intervals)):\n",
    "        if intervals[i][0] <= merged[-1][1]:\n",
    "            merged[-1][1] = max(merged[-1][1], intervals[i][1])\n",
    "        else:\n",
    "            merged.append(intervals[i])\n",
    "    return merged\n",
    "\n",
    "merge(intervals)"
   ]
  }
 ],
 "metadata": {
  "kernelspec": {
   "display_name": "Python 3 (ipykernel)",
   "language": "python",
   "name": "python3"
  },
  "language_info": {
   "codemirror_mode": {
    "name": "ipython",
    "version": 3
   },
   "file_extension": ".py",
   "mimetype": "text/x-python",
   "name": "python",
   "nbconvert_exporter": "python",
   "pygments_lexer": "ipython3",
   "version": "3.12.4"
  }
 },
 "nbformat": 4,
 "nbformat_minor": 5
}
