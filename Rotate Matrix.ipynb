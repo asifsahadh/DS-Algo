{
 "cells": [
  {
   "cell_type": "markdown",
   "id": "cf795d45-1f32-4475-9a30-ec03efd0f249",
   "metadata": {},
   "source": [
    "**Problem Statement:** Given a matrix, your task is to rotate the matrix 90 degrees clockwise."
   ]
  },
  {
   "cell_type": "code",
   "execution_count": 1,
   "id": "5d6ade3a-c869-42df-8eec-5c01914a2f3a",
   "metadata": {},
   "outputs": [],
   "source": [
    "# matrix = [[1, 2], \n",
    "#           [3, 4]] \n",
    "# output = [[3, 1], \n",
    "#           [4, 2]]"
   ]
  },
  {
   "cell_type": "code",
   "execution_count": 2,
   "id": "cd0fad52-17b3-409b-9763-11cd08837dd2",
   "metadata": {},
   "outputs": [],
   "source": [
    "matrix = [[1, 2], [3, 4]]\n",
    "matrix2 = [[1, 1, 1, 1], [2, 2, 2, 2], [3, 3, 3, 3], [4, 4, 4, 4]]"
   ]
  },
  {
   "cell_type": "code",
   "execution_count": 6,
   "id": "1221213c-efb1-4394-8043-8c0e27cc32fb",
   "metadata": {},
   "outputs": [],
   "source": [
    "def mat90(matrix):\n",
    "    \n",
    "    for i in range(len(matrix)):\n",
    "        for j in range(i + 1, len(matrix)):\n",
    "            matrix[i][j], matrix[j][i] = matrix[j][i], matrix[i][j]\n",
    "            \n",
    "    for row in matrix:\n",
    "        row.reverse()\n",
    "    \n",
    "    return matrix"
   ]
  },
  {
   "cell_type": "code",
   "execution_count": 4,
   "id": "b6a21712-4099-41eb-b263-efe72a4643dd",
   "metadata": {},
   "outputs": [
    {
     "data": {
      "text/plain": [
       "[[4, 3], [2, 1]]"
      ]
     },
     "execution_count": 4,
     "metadata": {},
     "output_type": "execute_result"
    }
   ],
   "source": [
    "mat90(matrix)"
   ]
  },
  {
   "cell_type": "code",
   "execution_count": 5,
   "id": "3c71aa71-e004-4c4f-84ae-c12c72189ba8",
   "metadata": {},
   "outputs": [
    {
     "data": {
      "text/plain": [
       "[[4, 3, 2, 1], [4, 3, 2, 1], [4, 3, 2, 1], [4, 3, 2, 1]]"
      ]
     },
     "execution_count": 5,
     "metadata": {},
     "output_type": "execute_result"
    }
   ],
   "source": [
    "mat90(matrix2)"
   ]
  }
 ],
 "metadata": {
  "kernelspec": {
   "display_name": "Python 3 (ipykernel)",
   "language": "python",
   "name": "python3"
  },
  "language_info": {
   "codemirror_mode": {
    "name": "ipython",
    "version": 3
   },
   "file_extension": ".py",
   "mimetype": "text/x-python",
   "name": "python",
   "nbconvert_exporter": "python",
   "pygments_lexer": "ipython3",
   "version": "3.12.4"
  }
 },
 "nbformat": 4,
 "nbformat_minor": 5
}
